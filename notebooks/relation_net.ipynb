{
  "nbformat": 4,
  "nbformat_minor": 0,
  "metadata": {
    "interpreter": {
      "hash": "cf7ece87ba606a74314b04b8a17ffb643d4d7d32308c07aeb5c604686f0d17de"
    },
    "kernelspec": {
      "display_name": "Python 3 (ipykernel)",
      "language": "python",
      "name": "python3"
    },
    "language_info": {
      "codemirror_mode": {
        "name": "ipython",
        "version": 3
      },
      "file_extension": ".py",
      "mimetype": "text/x-python",
      "name": "python",
      "nbconvert_exporter": "python",
      "pygments_lexer": "ipython3",
      "version": "3.7.4"
    },
    "colab": {
      "name": "relation_net.ipynb",
      "provenance": []
    },
    "accelerator": "GPU"
  },
  "cells": [
    {
      "cell_type": "markdown",
      "metadata": {
        "id": "Vvx72hz2sXMR"
      },
      "source": [
        "## For Colab only\n",
        "We need to clone the repo here before we can use it"
      ]
    },
    {
      "cell_type": "code",
      "metadata": {
        "id": "ZO1VeV1ssXMc"
      },
      "source": [
        "!git init\n",
        "!git remote add origin \"https://github.com/karan-sarkar/VGGVox-PyTorch.git\" \n",
        "!git pull origin master\n",
        "!git branch --set-upstream-to=origin/master master"
      ],
      "execution_count": null,
      "outputs": []
    },
    {
      "cell_type": "code",
      "metadata": {
        "id": "QvSL3WdGwhhH"
      },
      "source": [
        "!pip install -r requirements.txt"
      ],
      "execution_count": null,
      "outputs": []
    },
    {
      "cell_type": "markdown",
      "metadata": {
        "id": "MBCQVs7WsXMZ"
      },
      "source": [
        "Download dataset from gdrive. The specified file is just a minimal copy of the dataset. You can upload a different file and change the ID to your file."
      ]
    },
    {
      "cell_type": "code",
      "metadata": {
        "id": "69XqT5wRsXMa"
      },
      "source": [
        "!gdown --id '19q3G3XWKCkjwzdAWf8E-Ntx_hG-shRxo' -O data/wav.zip\n",
        "!unzip ./data/wav.zip -d ./data/ && mv ./data/subset ./data/wav"
      ],
      "execution_count": null,
      "outputs": []
    },
    {
      "cell_type": "code",
      "metadata": {
        "id": "gUq4GJcDvU4d"
      },
      "source": [
        "data_dir = \"./data\""
      ],
      "execution_count": null,
      "outputs": []
    },
    {
      "cell_type": "markdown",
      "metadata": {
        "id": "AxftK7vzsXMd"
      },
      "source": [
        "## Start"
      ]
    },
    {
      "cell_type": "code",
      "metadata": {
        "id": "y9huM3T6sXMe"
      },
      "source": [
        "%load_ext autoreload\n",
        "%autoreload 2"
      ],
      "execution_count": null,
      "outputs": []
    },
    {
      "cell_type": "code",
      "metadata": {
        "id": "bWR2xCGasXMh"
      },
      "source": [
        "import os\n",
        "import sys\n",
        "import pandas as pd\n",
        "import torch\n",
        "sys.path.append(os.path.abspath('..'))\n",
        "from train_fsl import train, dataloaders, ppdf"
      ],
      "execution_count": null,
      "outputs": []
    },
    {
      "cell_type": "code",
      "metadata": {
        "id": "YcZb9fYSsXMj"
      },
      "source": [
        "data_dir = data_dir or \"/Users/pi/repos/gatech/8803-LS/Project/dataset/voxceleb2\"\n",
        "loaders = dataloaders(data_dir)"
      ],
      "execution_count": null,
      "outputs": []
    },
    {
      "cell_type": "code",
      "metadata": {
        "id": "vzqSBI8bsXMk"
      },
      "source": [
        "batch = next(iter(loaders['train']))"
      ],
      "execution_count": null,
      "outputs": []
    },
    {
      "cell_type": "code",
      "metadata": {
        "id": "Ji3my-q-sXMl"
      },
      "source": [
        "batch[0].shape"
      ],
      "execution_count": null,
      "outputs": []
    },
    {
      "cell_type": "code",
      "metadata": {
        "id": "0hkJlok1sXMn"
      },
      "source": [
        "device = torch.device(\"cuda\" if torch.cuda.is_available() else \"cpu\")\n",
        "print(device)"
      ],
      "execution_count": null,
      "outputs": []
    },
    {
      "cell_type": "code",
      "metadata": {
        "id": "W39VRB7xsXMo"
      },
      "source": [
        "from audionet import AudioNet\n",
        "from easyfsl.methods import RelationNetworks\n",
        "N_WAY = 5 \n",
        "backbone=AudioNet(N_WAY, mode='fe')\n",
        "model = RelationNetworks(backbone)\n",
        "model.to(device)"
      ],
      "execution_count": null,
      "outputs": []
    },
    {
      "cell_type": "code",
      "metadata": {
        "id": "nXQ3AIvAsXMp"
      },
      "source": [
        "train(model, loaders, device)"
      ],
      "execution_count": null,
      "outputs": []
    },
    {
      "cell_type": "code",
      "metadata": {
        "id": "ZBhUha1TsXMp"
      },
      "source": [
        ""
      ],
      "execution_count": null,
      "outputs": []
    }
  ]
}