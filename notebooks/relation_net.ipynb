{
 "cells": [
  {
   "cell_type": "markdown",
   "metadata": {
    "id": "Vvx72hz2sXMR"
   },
   "source": [
    "## For Colab only\n",
    "We need to clone the repo here before we can use it"
   ]
  },
  {
   "cell_type": "code",
   "execution_count": null,
   "metadata": {
    "id": "ZO1VeV1ssXMc"
   },
   "outputs": [],
   "source": [
    "!git init\n",
    "!git remote add origin \"https://github.com/karan-sarkar/VGGVox-PyTorch.git\" \n",
    "!git pull origin master\n",
    "!git branch --set-upstream-to=origin/master master"
   ]
  },
  {
   "cell_type": "code",
   "execution_count": null,
   "metadata": {
    "id": "QvSL3WdGwhhH"
   },
   "outputs": [],
   "source": [
    "!pip install -r requirements.txt"
   ]
  },
  {
   "cell_type": "markdown",
   "metadata": {
    "id": "MBCQVs7WsXMZ"
   },
   "source": [
    "Download dataset from gdrive. The specified file is just a minimal copy of the dataset. You can upload a different file and change the ID to your file."
   ]
  },
  {
   "cell_type": "code",
   "execution_count": null,
   "metadata": {
    "id": "69XqT5wRsXMa"
   },
   "outputs": [],
   "source": [
    "!gdown --id '19q3G3XWKCkjwzdAWf8E-Ntx_hG-shRxo' -O data/wav.zip\n",
    "!unzip ./data/wav.zip -d ./data/ && mv ./data/subset ./data/wav"
   ]
  },
  {
   "cell_type": "code",
   "execution_count": null,
   "metadata": {
    "id": "gUq4GJcDvU4d"
   },
   "outputs": [],
   "source": [
    "data_dir = \"./data\""
   ]
  },
  {
   "cell_type": "markdown",
   "metadata": {
    "id": "AxftK7vzsXMd"
   },
   "source": [
    "## Start"
   ]
  },
  {
   "cell_type": "code",
   "execution_count": 1,
   "metadata": {
    "id": "y9huM3T6sXMe"
   },
   "outputs": [],
   "source": [
    "%load_ext autoreload\n",
    "%autoreload 2"
   ]
  },
  {
   "cell_type": "code",
   "execution_count": 2,
   "metadata": {
    "id": "bWR2xCGasXMh"
   },
   "outputs": [],
   "source": [
    "import os\n",
    "import sys\n",
    "import pandas as pd\n",
    "import torch\n",
    "sys.path.append(os.path.abspath('..'))\n",
    "from train_fsl import train, dataloaders, ppdf"
   ]
  },
  {
   "cell_type": "code",
   "execution_count": 6,
   "metadata": {
    "id": "YcZb9fYSsXMj"
   },
   "outputs": [],
   "source": [
    "try: data_dir\n",
    "except: data_dir = \"/Users/pi/repos/gatech/8803-LS/Project/dataset/voxceleb2\"\n",
    "loaders = dataloaders(data_dir)"
   ]
  },
  {
   "cell_type": "code",
   "execution_count": 7,
   "metadata": {
    "id": "vzqSBI8bsXMk"
   },
   "outputs": [],
   "source": [
    "batch = next(iter(loaders['train']))"
   ]
  },
  {
   "cell_type": "code",
   "execution_count": 8,
   "metadata": {
    "id": "Ji3my-q-sXMl"
   },
   "outputs": [
    {
     "data": {
      "text/plain": [
       "torch.Size([25, 1, 512, 300])"
      ]
     },
     "execution_count": 8,
     "metadata": {},
     "output_type": "execute_result"
    }
   ],
   "source": [
    "batch[0].shape"
   ]
  },
  {
   "cell_type": "code",
   "execution_count": 9,
   "metadata": {
    "id": "0hkJlok1sXMn"
   },
   "outputs": [
    {
     "name": "stdout",
     "output_type": "stream",
     "text": [
      "cpu\n"
     ]
    }
   ],
   "source": [
    "device = torch.device(\"cuda\" if torch.cuda.is_available() else \"cpu\")\n",
    "print(device)"
   ]
  },
  {
   "cell_type": "code",
   "execution_count": 10,
   "metadata": {
    "id": "W39VRB7xsXMo"
   },
   "outputs": [
    {
     "data": {
      "text/plain": [
       "RelationNetworks(\n",
       "  (backbone): AudioNet(\n",
       "    (features): Sequential(\n",
       "      (conv1): Conv2d(1, 96, kernel_size=(7, 7), stride=(2, 2), padding=(1, 1))\n",
       "      (bn1): BatchNorm2d(96, eps=1e-05, momentum=0.5, affine=True, track_running_stats=True)\n",
       "      (relu1): ReLU()\n",
       "      (mpool1): MaxPool2d(kernel_size=(3, 3), stride=(2, 2), padding=0, dilation=1, ceil_mode=False)\n",
       "      (conv2): Conv2d(96, 256, kernel_size=(5, 5), stride=(2, 2), padding=(1, 1))\n",
       "      (bn2): BatchNorm2d(256, eps=1e-05, momentum=0.5, affine=True, track_running_stats=True)\n",
       "      (relu2): ReLU()\n",
       "      (mpool2): MaxPool2d(kernel_size=(3, 3), stride=(2, 2), padding=0, dilation=1, ceil_mode=False)\n",
       "      (conv3): Conv2d(256, 384, kernel_size=(3, 3), stride=(1, 1), padding=(1, 1))\n",
       "      (bn3): BatchNorm2d(384, eps=1e-05, momentum=0.5, affine=True, track_running_stats=True)\n",
       "      (relu3): ReLU()\n",
       "      (conv4): Conv2d(384, 256, kernel_size=(3, 3), stride=(1, 1), padding=(1, 1))\n",
       "      (bn4): BatchNorm2d(256, eps=1e-05, momentum=0.5, affine=True, track_running_stats=True)\n",
       "      (relu4): ReLU()\n",
       "      (conv5): Conv2d(256, 256, kernel_size=(3, 3), stride=(1, 1), padding=(1, 1))\n",
       "      (bn5): BatchNorm2d(256, eps=1e-05, momentum=0.5, affine=True, track_running_stats=True)\n",
       "      (relu5): ReLU()\n",
       "      (mpool5): MaxPool2d(kernel_size=(5, 3), stride=(3, 2), padding=0, dilation=1, ceil_mode=False)\n",
       "      (fc6): Conv2d(256, 4096, kernel_size=(9, 1), stride=(1, 1))\n",
       "      (bn6): BatchNorm2d(4096, eps=1e-05, momentum=0.5, affine=True, track_running_stats=True)\n",
       "      (relu6): ReLU()\n",
       "    )\n",
       "    (classifier): Sequential(\n",
       "      (apool6): AdaptiveAvgPool2d(output_size=(1, 1))\n",
       "      (flatten): Flatten(start_dim=1, end_dim=-1)\n",
       "      (fc7): Linear(in_features=4096, out_features=1024, bias=True)\n",
       "      (relu7): ReLU()\n",
       "      (fc8): Linear(in_features=1024, out_features=5, bias=True)\n",
       "    )\n",
       "  )\n",
       "  (loss_function): MSELoss()\n",
       "  (relation_module): Sequential(\n",
       "    (0): Sequential(\n",
       "      (0): Conv2d(8192, 4096, kernel_size=(3, 3), stride=(1, 1), padding=(1, 1))\n",
       "      (1): BatchNorm2d(4096, eps=1e-05, momentum=1, affine=True, track_running_stats=True)\n",
       "      (2): ReLU()\n",
       "      (3): AdaptiveMaxPool2d(output_size=(5, 5))\n",
       "    )\n",
       "    (1): Sequential(\n",
       "      (0): Conv2d(4096, 4096, kernel_size=(3, 3), stride=(1, 1))\n",
       "      (1): BatchNorm2d(4096, eps=1e-05, momentum=1, affine=True, track_running_stats=True)\n",
       "      (2): ReLU()\n",
       "      (3): AdaptiveMaxPool2d(output_size=(1, 1))\n",
       "    )\n",
       "    (2): Flatten(start_dim=1, end_dim=-1)\n",
       "    (3): Linear(in_features=4096, out_features=8, bias=True)\n",
       "    (4): ReLU()\n",
       "    (5): Linear(in_features=8, out_features=1, bias=True)\n",
       "    (6): Sigmoid()\n",
       "  )\n",
       ")"
      ]
     },
     "execution_count": 10,
     "metadata": {},
     "output_type": "execute_result"
    }
   ],
   "source": [
    "from audionet import AudioNet\n",
    "from easyfsl.methods import RelationNetworks\n",
    "N_WAY = 5 \n",
    "backbone=AudioNet(N_WAY, mode='fe')\n",
    "model = RelationNetworks(backbone)\n",
    "model.to(device)"
   ]
  },
  {
   "cell_type": "code",
   "execution_count": null,
   "metadata": {
    "id": "nXQ3AIvAsXMp"
   },
   "outputs": [
    {
     "name": "stdout",
     "output_type": "stream",
     "text": [
      "Start Training\n"
     ]
    },
    {
     "name": "stderr",
     "output_type": "stream",
     "text": [
      "Epoch [1/150]:   0%|                                                                                                                                  | 0/100 [00:00<?, ?it/s][W ParallelNative.cpp:214] Warning: Cannot set number of intraop threads after parallel work has started or after set_num_threads call when using native parallel backend (function set_num_threads)\n",
      "[W ParallelNative.cpp:214] Warning: Cannot set number of intraop threads after parallel work has started or after set_num_threads call when using native parallel backend (function set_num_threads)\n",
      "[W ParallelNative.cpp:214] Warning: Cannot set number of intraop threads after parallel work has started or after set_num_threads call when using native parallel backend (function set_num_threads)\n",
      "[W ParallelNative.cpp:214] Warning: Cannot set number of intraop threads after parallel work has started or after set_num_threads call when using native parallel backend (function set_num_threads)\n"
     ]
    }
   ],
   "source": [
    "train(model, loaders, device)"
   ]
  },
  {
   "cell_type": "code",
   "execution_count": null,
   "metadata": {
    "id": "ZBhUha1TsXMp"
   },
   "outputs": [],
   "source": []
  }
 ],
 "metadata": {
  "accelerator": "GPU",
  "colab": {
   "name": "relation_net.ipynb",
   "provenance": []
  },
  "interpreter": {
   "hash": "cf7ece87ba606a74314b04b8a17ffb643d4d7d32308c07aeb5c604686f0d17de"
  },
  "kernelspec": {
   "display_name": "Python 3 (ipykernel)",
   "language": "python",
   "name": "python3"
  },
  "language_info": {
   "codemirror_mode": {
    "name": "ipython",
    "version": 3
   },
   "file_extension": ".py",
   "mimetype": "text/x-python",
   "name": "python",
   "nbconvert_exporter": "python",
   "pygments_lexer": "ipython3",
   "version": "3.7.4"
  }
 },
 "nbformat": 4,
 "nbformat_minor": 1
}
