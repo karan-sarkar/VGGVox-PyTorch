{
  "nbformat": 4,
  "nbformat_minor": 0,
  "metadata": {
    "accelerator": "GPU",
    "colab": {
      "name": "relation_net.ipynb",
      "provenance": []
    },
    "interpreter": {
      "hash": "cf7ece87ba606a74314b04b8a17ffb643d4d7d32308c07aeb5c604686f0d17de"
    },
    "kernelspec": {
      "display_name": "Python 3 (ipykernel)",
      "language": "python",
      "name": "python3"
    },
    "language_info": {
      "codemirror_mode": {
        "name": "ipython",
        "version": 3
      },
      "file_extension": ".py",
      "mimetype": "text/x-python",
      "name": "python",
      "nbconvert_exporter": "python",
      "pygments_lexer": "ipython3",
      "version": "3.7.4"
    }
  },
  "cells": [
    {
      "cell_type": "markdown",
      "metadata": {
        "id": "Vvx72hz2sXMR"
      },
      "source": [
        "## For Colab only\n",
        "We need to clone the repo here before we can use it"
      ]
    },
    {
      "cell_type": "code",
      "metadata": {
        "id": "ZO1VeV1ssXMc"
      },
      "source": [
        "!git init\n",
        "!git remote add origin \"https://github.com/karan-sarkar/VGGVox-PyTorch.git\" \n",
        "!git pull origin master\n",
        "!git branch --set-upstream-to=origin/master master"
      ],
      "execution_count": null,
      "outputs": []
    },
    {
      "cell_type": "code",
      "metadata": {
        "id": "QvSL3WdGwhhH"
      },
      "source": [
        "!pip install -r requirements.txt"
      ],
      "execution_count": null,
      "outputs": []
    },
    {
      "cell_type": "markdown",
      "metadata": {
        "id": "MBCQVs7WsXMZ"
      },
      "source": [
        "Download dataset from gdrive. The specified file is just a minimal copy of the dataset. You can upload a different file and change the ID to your file."
      ]
    },
    {
      "cell_type": "code",
      "metadata": {
        "id": "69XqT5wRsXMa"
      },
      "source": [
        "!gdown --id '19q3G3XWKCkjwzdAWf8E-Ntx_hG-shRxo' -O data/wav.zip\n",
        "!unzip ./data/wav.zip -d ./data/ && mv ./data/subset ./data/wav"
      ],
      "execution_count": null,
      "outputs": []
    },
    {
      "cell_type": "code",
      "metadata": {
        "id": "gUq4GJcDvU4d"
      },
      "source": [
        "data_dir = \"./data\""
      ],
      "execution_count": null,
      "outputs": []
    },
    {
      "cell_type": "markdown",
      "metadata": {
        "id": "AxftK7vzsXMd"
      },
      "source": [
        "## Start"
      ]
    },
    {
      "cell_type": "code",
      "metadata": {
        "id": "y9huM3T6sXMe"
      },
      "source": [
        "%load_ext autoreload\n",
        "%autoreload 2"
      ],
      "execution_count": null,
      "outputs": []
    },
    {
      "cell_type": "code",
      "metadata": {
        "id": "bWR2xCGasXMh"
      },
      "source": [
        "import os\n",
        "import sys\n",
        "import pandas as pd\n",
        "import torch\n",
        "import matplotlib.pyplot as plt\n",
        "%matplotlib inline\n",
        "import numpy as np\n",
        "sys.path.append(os.path.abspath('..'))\n",
        "from train_fsl import Experiment"
      ],
      "execution_count": null,
      "outputs": []
    },
    {
      "cell_type": "code",
      "metadata": {
        "id": "YcZb9fYSsXMj"
      },
      "source": [
        "try: data_dir\n",
        "except: data_dir = \"/Users/pi/repos/gatech/8803-LS/Project/dataset/voxceleb2\"\n"
      ],
      "execution_count": null,
      "outputs": []
    },
    {
      "cell_type": "code",
      "metadata": {
        "id": "0hkJlok1sXMn"
      },
      "source": [
        "device = torch.device(\"cuda\" if torch.cuda.is_available() else \"cpu\")\n",
        "print(device)"
      ],
      "execution_count": null,
      "outputs": []
    },
    {
      "cell_type": "code",
      "metadata": {
        "cellView": "form",
        "id": "ijTCQBFQHFQO"
      },
      "source": [
        "#@title Set training params { run: \"auto\" }\n",
        "batch_size = 5 #@param {type:\"integer\"}\n",
        "num_way = 5 #@param {type:\"integer\"}\n",
        "backbone_arch = \"resnet18\" #@param [\"resnet18\", \"resnet34\", \"audionet\"]\n",
        "num_workers = 0 #@param {type:\"integer\"}\n",
        "num_shot = 5 #@param {type:\"integer\"}\n",
        "num_query = 1 #@param {type:\"integer\"}\n",
        "num_train_tasks = 20 #@param {type:\"integer\"}\n",
        "num_val_tasks = 20 #@param {type:\"integer\"}\n",
        "num_eval_tasks = 20 #@param {type:\"integer\"}\n",
        "num_epochs = 20 #@param {type:\"integer\"}\n",
        "augmentation = \"none\" #@param [\"spec\", \"mixup\", \"none\"]\n",
        "fsl_arch = \"relation-net\" #@param [\"relation-net\", \"proto-net\"]\n"
      ],
      "execution_count": null,
      "outputs": []
    },
    {
      "cell_type": "code",
      "metadata": {
        "id": "mnUBIz4G9XHx"
      },
      "source": [
        "N_WAY = 5 \n",
        "experiment = Experiment(\n",
        "    batch_size=batch_size, \n",
        "    num_workers=num_workers, \n",
        "    device=device,\n",
        "    num_way=num_way,\n",
        "    num_shot=num_shot,\n",
        "    num_query=num_query,\n",
        "    num_train_tasks=num_train_tasks,\n",
        "    num_val_tasks=num_val_tasks,\n",
        "    num_eval_tasks=num_eval_tasks,\n",
        "    num_epochs=num_epochs,\n",
        "    augmentation=augmentation,\n",
        "    backbone_arch=backbone_arch,\n",
        "    fsl_arch=fsl_arch,\n",
        "    dir=data_dir,\n",
        ")"
      ],
      "execution_count": null,
      "outputs": []
    },
    {
      "cell_type": "code",
      "metadata": {
        "id": "vzqSBI8bsXMk"
      },
      "source": [
        "loaders = experiment.Dataloaders\n",
        "batch = next(iter(loaders['train']))"
      ],
      "execution_count": null,
      "outputs": []
    },
    {
      "cell_type": "code",
      "metadata": {
        "id": "Ji3my-q-sXMl"
      },
      "source": [
        "batch[0].shape"
      ],
      "execution_count": null,
      "outputs": []
    },
    {
      "cell_type": "code",
      "metadata": {
        "id": "OiKTnn7XM5hJ"
      },
      "source": [
        "def plot_freq(dataset):\n",
        "    labels = np.array(dataset.labels)\n",
        "    classes, counts = np.unique(labels, return_counts=True)\n",
        "    print('The range of frequencies is :', min(counts), '->', max(counts))\n",
        "    classes = list(map(str, classes))\n",
        "    _ = plt.bar(classes, counts)\n",
        "    plt.show()\n",
        "print('Train')\n",
        "plot_freq(loaders['train'].dataset)\n",
        "print('Val')\n",
        "[plot_freq(dl.dataset) for dl in loaders['val']]\n",
        "print('Test')\n",
        "[plot_freq(dl.dataset) for dl in loaders['test']]"
      ],
      "execution_count": null,
      "outputs": []
    },
    {
      "cell_type": "code",
      "metadata": {
        "id": "vW5Kn5B769hk"
      },
      "source": [
        "train_classes = loaders['train'].dataset.labels\n",
        "val_classes = loaders['val'][0].dataset.labels\n",
        "test_classes = loaders['test'][0].dataset.labels\n",
        "print('The 3 datasets should not have any intersection')\n",
        "print('Train-Val intersection:', set(train_classes).intersection(set(val_classes)))\n",
        "print('Val-Test intersection:', set(test_classes).intersection(set(val_classes)))\n",
        "print('Train-Test intersection:', set(train_classes).intersection(set(test_classes)))"
      ],
      "execution_count": null,
      "outputs": []
    },
    {
      "cell_type": "code",
      "metadata": {
        "id": "nXQ3AIvAsXMp"
      },
      "source": [
        "experiment.train()"
      ],
      "execution_count": null,
      "outputs": []
    },
    {
      "cell_type": "code",
      "metadata": {
        "id": "ZBhUha1TsXMp"
      },
      "source": [
        ""
      ],
      "execution_count": null,
      "outputs": []
    }
  ]
}